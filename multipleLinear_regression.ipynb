{
  "metadata": {
    "kernelspec": {
      "language": "python",
      "display_name": "Python 3",
      "name": "python3"
    },
    "language_info": {
      "name": "python",
      "version": "3.11.13",
      "mimetype": "text/x-python",
      "codemirror_mode": {
        "name": "ipython",
        "version": 3
      },
      "pygments_lexer": "ipython3",
      "nbconvert_exporter": "python",
      "file_extension": ".py"
    },
    "kaggle": {
      "accelerator": "none",
      "dataSources": [],
      "dockerImageVersionId": 31089,
      "isInternetEnabled": false,
      "language": "python",
      "sourceType": "notebook",
      "isGpuEnabled": false
    },
    "colab": {
      "name": "notebookd47fb3ce57",
      "provenance": [],
      "include_colab_link": true
    }
  },
  "nbformat_minor": 0,
  "nbformat": 4,
  "cells": [
    {
      "cell_type": "markdown",
      "metadata": {
        "id": "view-in-github",
        "colab_type": "text"
      },
      "source": [
        "<a href=\"https://colab.research.google.com/github/shamit5/machine_learning/blob/main/multipleLinear_regression.ipynb\" target=\"_parent\"><img src=\"https://colab.research.google.com/assets/colab-badge.svg\" alt=\"Open In Colab\"/></a>"
      ]
    },
    {
      "cell_type": "code",
      "source": [
        "# This Python 3 environment comes with many helpful analytics libraries installed\n",
        "# It is defined by the kaggle/python Docker image: https://github.com/kaggle/docker-python\n",
        "# For example, here's several helpful packages to load\n",
        "\n",
        "import numpy as np # linear algebra\n",
        "import pandas as pd # data processing, CSV file I/O (e.g. pd.read_csv)\n",
        "\n",
        "# Input data files are available in the read-only \"../input/\" directory\n",
        "# For example, running this (by clicking run or pressing Shift+Enter) will list all files under the input directory\n",
        "\n",
        "import os\n",
        "for dirname, _, filenames in os.walk('/kaggle/input'):\n",
        "    for filename in filenames:\n",
        "        print(os.path.join(dirname, filename))\n",
        "\n",
        "# You can write up to 20GB to the current directory (/kaggle/working/) that gets preserved as output when you create a version using \"Save & Run All\"\n",
        "# You can also write temporary files to /kaggle/temp/, but they won't be saved outside of the current session"
      ],
      "metadata": {
        "_uuid": "8f2839f25d086af736a60e9eeb907d3b93b6e0e5",
        "_cell_guid": "b1076dfc-b9ad-4769-8c92-a6c4dae69d19",
        "trusted": true,
        "execution": {
          "iopub.status.busy": "2025-08-23T08:55:13.446179Z",
          "iopub.execute_input": "2025-08-23T08:55:13.446477Z",
          "iopub.status.idle": "2025-08-23T08:55:16.398877Z",
          "shell.execute_reply.started": "2025-08-23T08:55:13.446452Z",
          "shell.execute_reply": "2025-08-23T08:55:16.39765Z"
        },
        "id": "bjjJInDTp_Mr"
      },
      "outputs": [],
      "execution_count": null
    },
    {
      "cell_type": "code",
      "source": [
        "from sklearn.datasets  import make_regression\n",
        "import plotly.express as px\n",
        "import plotly.graph_objects as go\n",
        "from sklearn.metrics import mean_squared_error,mean_absolute_error,r2_score"
      ],
      "metadata": {
        "trusted": true,
        "execution": {
          "iopub.status.busy": "2025-08-23T09:05:05.876818Z",
          "iopub.execute_input": "2025-08-23T09:05:05.877116Z",
          "iopub.status.idle": "2025-08-23T09:05:05.8852Z",
          "shell.execute_reply.started": "2025-08-23T09:05:05.877094Z",
          "shell.execute_reply": "2025-08-23T09:05:05.883577Z"
        },
        "id": "Sq0uyO9np_Ms"
      },
      "outputs": [],
      "execution_count": null
    },
    {
      "cell_type": "code",
      "source": [
        "x,y=make_regression(n_samples=100 , n_features=2 , n_targets = 1 , n_informative=2 , noise =50)"
      ],
      "metadata": {
        "trusted": true,
        "execution": {
          "iopub.status.busy": "2025-08-23T09:13:30.229439Z",
          "iopub.execute_input": "2025-08-23T09:13:30.229708Z",
          "iopub.status.idle": "2025-08-23T09:13:30.262228Z",
          "shell.execute_reply.started": "2025-08-23T09:13:30.229689Z",
          "shell.execute_reply": "2025-08-23T09:13:30.26136Z"
        },
        "id": "XSTzkyy6p_Mt"
      },
      "outputs": [],
      "execution_count": null
    },
    {
      "cell_type": "code",
      "source": [
        "df= pd.DataFrame({'feature1':x[:,0],'feature2':x[:,1],'target':y })"
      ],
      "metadata": {
        "trusted": true,
        "execution": {
          "iopub.status.busy": "2025-08-23T09:55:17.473493Z",
          "iopub.execute_input": "2025-08-23T09:55:17.474048Z",
          "iopub.status.idle": "2025-08-23T09:55:17.481915Z",
          "shell.execute_reply.started": "2025-08-23T09:55:17.47402Z",
          "shell.execute_reply": "2025-08-23T09:55:17.480688Z"
        },
        "id": "ISmm0_dUp_Mu"
      },
      "outputs": [],
      "execution_count": null
    },
    {
      "cell_type": "code",
      "source": [
        "df"
      ],
      "metadata": {
        "trusted": true,
        "execution": {
          "iopub.status.busy": "2025-08-23T09:55:25.202026Z",
          "iopub.execute_input": "2025-08-23T09:55:25.202375Z",
          "iopub.status.idle": "2025-08-23T09:55:25.242863Z",
          "shell.execute_reply.started": "2025-08-23T09:55:25.202352Z",
          "shell.execute_reply": "2025-08-23T09:55:25.241856Z"
        },
        "id": "LIlWh0YOp_Mv",
        "outputId": "aab52417-ae2f-449c-d802-18b1f17c6960"
      },
      "outputs": [
        {
          "execution_count": 9,
          "output_type": "execute_result",
          "data": {
            "text/plain": "    feature1  feature2      target\n0  -1.190587  0.481310  -35.706803\n1   1.135930  1.244510   82.050364\n2   0.591082 -0.452129   20.085608\n3  -0.421178  0.634098    0.421352\n4   0.126736  0.325833    3.266819\n..       ...       ...         ...\n95  1.380611  0.859411  100.988380\n96  0.801925  0.273478   85.397760\n97 -1.564079  0.484645  -63.720018\n98  0.746244 -0.000857   -4.244625\n99  0.321210 -0.009246  -27.087610\n\n[100 rows x 3 columns]",
            "text/html": "<div>\n<style scoped>\n    .dataframe tbody tr th:only-of-type {\n        vertical-align: middle;\n    }\n\n    .dataframe tbody tr th {\n        vertical-align: top;\n    }\n\n    .dataframe thead th {\n        text-align: right;\n    }\n</style>\n<table border=\"1\" class=\"dataframe\">\n  <thead>\n    <tr style=\"text-align: right;\">\n      <th></th>\n      <th>feature1</th>\n      <th>feature2</th>\n      <th>target</th>\n    </tr>\n  </thead>\n  <tbody>\n    <tr>\n      <th>0</th>\n      <td>-1.190587</td>\n      <td>0.481310</td>\n      <td>-35.706803</td>\n    </tr>\n    <tr>\n      <th>1</th>\n      <td>1.135930</td>\n      <td>1.244510</td>\n      <td>82.050364</td>\n    </tr>\n    <tr>\n      <th>2</th>\n      <td>0.591082</td>\n      <td>-0.452129</td>\n      <td>20.085608</td>\n    </tr>\n    <tr>\n      <th>3</th>\n      <td>-0.421178</td>\n      <td>0.634098</td>\n      <td>0.421352</td>\n    </tr>\n    <tr>\n      <th>4</th>\n      <td>0.126736</td>\n      <td>0.325833</td>\n      <td>3.266819</td>\n    </tr>\n    <tr>\n      <th>...</th>\n      <td>...</td>\n      <td>...</td>\n      <td>...</td>\n    </tr>\n    <tr>\n      <th>95</th>\n      <td>1.380611</td>\n      <td>0.859411</td>\n      <td>100.988380</td>\n    </tr>\n    <tr>\n      <th>96</th>\n      <td>0.801925</td>\n      <td>0.273478</td>\n      <td>85.397760</td>\n    </tr>\n    <tr>\n      <th>97</th>\n      <td>-1.564079</td>\n      <td>0.484645</td>\n      <td>-63.720018</td>\n    </tr>\n    <tr>\n      <th>98</th>\n      <td>0.746244</td>\n      <td>-0.000857</td>\n      <td>-4.244625</td>\n    </tr>\n    <tr>\n      <th>99</th>\n      <td>0.321210</td>\n      <td>-0.009246</td>\n      <td>-27.087610</td>\n    </tr>\n  </tbody>\n</table>\n<p>100 rows × 3 columns</p>\n</div>"
          },
          "metadata": {}
        }
      ],
      "execution_count": null
    },
    {
      "cell_type": "code",
      "source": [
        "from sklearn.model_selection import train_test_split\n",
        "x_train , x_test, y_train , y_test = train_test_split(x,y, test_size=0.2)"
      ],
      "metadata": {
        "trusted": true,
        "execution": {
          "iopub.status.busy": "2025-08-23T09:55:57.005769Z",
          "iopub.execute_input": "2025-08-23T09:55:57.00626Z",
          "iopub.status.idle": "2025-08-23T09:55:57.012126Z",
          "shell.execute_reply.started": "2025-08-23T09:55:57.006229Z",
          "shell.execute_reply": "2025-08-23T09:55:57.010982Z"
        },
        "id": "-PNiT_tSp_Mv"
      },
      "outputs": [],
      "execution_count": null
    },
    {
      "cell_type": "code",
      "source": [
        "df.shape"
      ],
      "metadata": {
        "trusted": true,
        "execution": {
          "iopub.status.busy": "2025-08-23T09:56:21.024849Z",
          "iopub.execute_input": "2025-08-23T09:56:21.025232Z",
          "iopub.status.idle": "2025-08-23T09:56:21.03449Z",
          "shell.execute_reply.started": "2025-08-23T09:56:21.025183Z",
          "shell.execute_reply": "2025-08-23T09:56:21.03272Z"
        },
        "id": "O_r_XnUNp_Mw",
        "outputId": "4c7e7749-01b2-45e5-b66e-be02cece560b"
      },
      "outputs": [
        {
          "execution_count": 12,
          "output_type": "execute_result",
          "data": {
            "text/plain": "(100, 3)"
          },
          "metadata": {}
        }
      ],
      "execution_count": null
    },
    {
      "cell_type": "code",
      "source": [
        "from sklearn.linear_model import LinearRegression\n",
        "lr=LinearRegression()"
      ],
      "metadata": {
        "trusted": true,
        "execution": {
          "iopub.status.busy": "2025-08-23T10:01:05.16507Z",
          "iopub.execute_input": "2025-08-23T10:01:05.165358Z",
          "iopub.status.idle": "2025-08-23T10:01:05.405397Z",
          "shell.execute_reply.started": "2025-08-23T10:01:05.165339Z",
          "shell.execute_reply": "2025-08-23T10:01:05.402876Z"
        },
        "id": "T08-6uslp_Mw"
      },
      "outputs": [],
      "execution_count": null
    },
    {
      "cell_type": "code",
      "source": [
        "lr.fit(x_train,y_train)"
      ],
      "metadata": {
        "trusted": true,
        "execution": {
          "iopub.status.busy": "2025-08-23T10:01:32.862937Z",
          "iopub.execute_input": "2025-08-23T10:01:32.863218Z",
          "iopub.status.idle": "2025-08-23T10:01:32.913974Z",
          "shell.execute_reply.started": "2025-08-23T10:01:32.863198Z",
          "shell.execute_reply": "2025-08-23T10:01:32.912966Z"
        },
        "id": "reNpMGrop_Mx",
        "outputId": "4f7e0b28-d44a-4c29-b06c-1ff4753d1ffa"
      },
      "outputs": [
        {
          "execution_count": 14,
          "output_type": "execute_result",
          "data": {
            "text/plain": "LinearRegression()",
            "text/html": "<style>#sk-container-id-1 {color: black;background-color: white;}#sk-container-id-1 pre{padding: 0;}#sk-container-id-1 div.sk-toggleable {background-color: white;}#sk-container-id-1 label.sk-toggleable__label {cursor: pointer;display: block;width: 100%;margin-bottom: 0;padding: 0.3em;box-sizing: border-box;text-align: center;}#sk-container-id-1 label.sk-toggleable__label-arrow:before {content: \"▸\";float: left;margin-right: 0.25em;color: #696969;}#sk-container-id-1 label.sk-toggleable__label-arrow:hover:before {color: black;}#sk-container-id-1 div.sk-estimator:hover label.sk-toggleable__label-arrow:before {color: black;}#sk-container-id-1 div.sk-toggleable__content {max-height: 0;max-width: 0;overflow: hidden;text-align: left;background-color: #f0f8ff;}#sk-container-id-1 div.sk-toggleable__content pre {margin: 0.2em;color: black;border-radius: 0.25em;background-color: #f0f8ff;}#sk-container-id-1 input.sk-toggleable__control:checked~div.sk-toggleable__content {max-height: 200px;max-width: 100%;overflow: auto;}#sk-container-id-1 input.sk-toggleable__control:checked~label.sk-toggleable__label-arrow:before {content: \"▾\";}#sk-container-id-1 div.sk-estimator input.sk-toggleable__control:checked~label.sk-toggleable__label {background-color: #d4ebff;}#sk-container-id-1 div.sk-label input.sk-toggleable__control:checked~label.sk-toggleable__label {background-color: #d4ebff;}#sk-container-id-1 input.sk-hidden--visually {border: 0;clip: rect(1px 1px 1px 1px);clip: rect(1px, 1px, 1px, 1px);height: 1px;margin: -1px;overflow: hidden;padding: 0;position: absolute;width: 1px;}#sk-container-id-1 div.sk-estimator {font-family: monospace;background-color: #f0f8ff;border: 1px dotted black;border-radius: 0.25em;box-sizing: border-box;margin-bottom: 0.5em;}#sk-container-id-1 div.sk-estimator:hover {background-color: #d4ebff;}#sk-container-id-1 div.sk-parallel-item::after {content: \"\";width: 100%;border-bottom: 1px solid gray;flex-grow: 1;}#sk-container-id-1 div.sk-label:hover label.sk-toggleable__label {background-color: #d4ebff;}#sk-container-id-1 div.sk-serial::before {content: \"\";position: absolute;border-left: 1px solid gray;box-sizing: border-box;top: 0;bottom: 0;left: 50%;z-index: 0;}#sk-container-id-1 div.sk-serial {display: flex;flex-direction: column;align-items: center;background-color: white;padding-right: 0.2em;padding-left: 0.2em;position: relative;}#sk-container-id-1 div.sk-item {position: relative;z-index: 1;}#sk-container-id-1 div.sk-parallel {display: flex;align-items: stretch;justify-content: center;background-color: white;position: relative;}#sk-container-id-1 div.sk-item::before, #sk-container-id-1 div.sk-parallel-item::before {content: \"\";position: absolute;border-left: 1px solid gray;box-sizing: border-box;top: 0;bottom: 0;left: 50%;z-index: -1;}#sk-container-id-1 div.sk-parallel-item {display: flex;flex-direction: column;z-index: 1;position: relative;background-color: white;}#sk-container-id-1 div.sk-parallel-item:first-child::after {align-self: flex-end;width: 50%;}#sk-container-id-1 div.sk-parallel-item:last-child::after {align-self: flex-start;width: 50%;}#sk-container-id-1 div.sk-parallel-item:only-child::after {width: 0;}#sk-container-id-1 div.sk-dashed-wrapped {border: 1px dashed gray;margin: 0 0.4em 0.5em 0.4em;box-sizing: border-box;padding-bottom: 0.4em;background-color: white;}#sk-container-id-1 div.sk-label label {font-family: monospace;font-weight: bold;display: inline-block;line-height: 1.2em;}#sk-container-id-1 div.sk-label-container {text-align: center;}#sk-container-id-1 div.sk-container {/* jupyter's `normalize.less` sets `[hidden] { display: none; }` but bootstrap.min.css set `[hidden] { display: none !important; }` so we also need the `!important` here to be able to override the default hidden behavior on the sphinx rendered scikit-learn.org. See: https://github.com/scikit-learn/scikit-learn/issues/21755 */display: inline-block !important;position: relative;}#sk-container-id-1 div.sk-text-repr-fallback {display: none;}</style><div id=\"sk-container-id-1\" class=\"sk-top-container\"><div class=\"sk-text-repr-fallback\"><pre>LinearRegression()</pre><b>In a Jupyter environment, please rerun this cell to show the HTML representation or trust the notebook. <br />On GitHub, the HTML representation is unable to render, please try loading this page with nbviewer.org.</b></div><div class=\"sk-container\" hidden><div class=\"sk-item\"><div class=\"sk-estimator sk-toggleable\"><input class=\"sk-toggleable__control sk-hidden--visually\" id=\"sk-estimator-id-1\" type=\"checkbox\" checked><label for=\"sk-estimator-id-1\" class=\"sk-toggleable__label sk-toggleable__label-arrow\">LinearRegression</label><div class=\"sk-toggleable__content\"><pre>LinearRegression()</pre></div></div></div></div></div>"
          },
          "metadata": {}
        }
      ],
      "execution_count": null
    },
    {
      "cell_type": "code",
      "source": [
        "y_pred=lr.predict(x_test)"
      ],
      "metadata": {
        "trusted": true,
        "execution": {
          "iopub.status.busy": "2025-08-23T10:02:39.041118Z",
          "iopub.execute_input": "2025-08-23T10:02:39.04139Z",
          "iopub.status.idle": "2025-08-23T10:02:39.04559Z",
          "shell.execute_reply.started": "2025-08-23T10:02:39.041373Z",
          "shell.execute_reply": "2025-08-23T10:02:39.04476Z"
        },
        "id": "YumWbg0_p_Mx"
      },
      "outputs": [],
      "execution_count": null
    },
    {
      "cell_type": "code",
      "source": [
        "print('MEA',mean_absolute_error(y_test,y_pred))\n",
        "print('MSE',mean_squared_error(y_pred,y_test))\n",
        "print('r2_score',r2_score(y_pred,y_test))\n"
      ],
      "metadata": {
        "trusted": true,
        "execution": {
          "iopub.status.busy": "2025-08-23T10:04:42.661536Z",
          "iopub.execute_input": "2025-08-23T10:04:42.661922Z",
          "iopub.status.idle": "2025-08-23T10:04:42.66912Z",
          "shell.execute_reply.started": "2025-08-23T10:04:42.6619Z",
          "shell.execute_reply": "2025-08-23T10:04:42.667967Z"
        },
        "id": "jbeDfDPYp_Mx",
        "outputId": "933ebaed-6768-44bf-fc7a-795556f0b36d"
      },
      "outputs": [
        {
          "name": "stdout",
          "text": "MEA 40.009618773764515\nMSE 2827.8968793597255\nr2_score -0.936650418535413\n",
          "output_type": "stream"
        }
      ],
      "execution_count": null
    },
    {
      "cell_type": "code",
      "source": [],
      "metadata": {
        "trusted": true,
        "id": "GMr3BAFVp_My"
      },
      "outputs": [],
      "execution_count": null
    }
  ]
}