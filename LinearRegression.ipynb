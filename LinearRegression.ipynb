{
  "metadata": {
    "kernelspec": {
      "language": "python",
      "display_name": "Python 3",
      "name": "python3"
    },
    "language_info": {
      "name": "python",
      "version": "3.11.13",
      "mimetype": "text/x-python",
      "codemirror_mode": {
        "name": "ipython",
        "version": 3
      },
      "pygments_lexer": "ipython3",
      "nbconvert_exporter": "python",
      "file_extension": ".py"
    },
    "kaggle": {
      "accelerator": "none",
      "dataSources": [
        {
          "sourceId": 6093107,
          "sourceType": "datasetVersion",
          "datasetId": 3489570
        }
      ],
      "dockerImageVersionId": 31089,
      "isInternetEnabled": false,
      "language": "python",
      "sourceType": "notebook",
      "isGpuEnabled": false
    },
    "colab": {
      "name": "notebooke24398e241",
      "provenance": [],
      "include_colab_link": true
    }
  },
  "nbformat_minor": 0,
  "nbformat": 4,
  "cells": [
    {
      "cell_type": "markdown",
      "metadata": {
        "id": "view-in-github",
        "colab_type": "text"
      },
      "source": [
        "<a href=\"https://colab.research.google.com/github/shamit5/machine_learning/blob/main/LinearRegression.ipynb\" target=\"_parent\"><img src=\"https://colab.research.google.com/assets/colab-badge.svg\" alt=\"Open In Colab\"/></a>"
      ]
    },
    {
      "source": [
        "# IMPORTANT: RUN THIS CELL IN ORDER TO IMPORT YOUR KAGGLE DATA SOURCES,\n",
        "# THEN FEEL FREE TO DELETE THIS CELL.\n",
        "# NOTE: THIS NOTEBOOK ENVIRONMENT DIFFERS FROM KAGGLE'S PYTHON\n",
        "# ENVIRONMENT SO THERE MAY BE MISSING LIBRARIES USED BY YOUR\n",
        "# NOTEBOOK.\n",
        "import kagglehub\n",
        "vishakhagupta11_placementcsv_path = kagglehub.dataset_download('vishakhagupta11/placementcsv')\n",
        "\n",
        "print('Data source import complete.')\n"
      ],
      "metadata": {
        "id": "A1WE_GUKDDEO"
      },
      "cell_type": "code",
      "outputs": [],
      "execution_count": null
    },
    {
      "cell_type": "code",
      "source": [
        "# This Python 3 environment comes with many helpful analytics libraries installed\n",
        "# It is defined by the kaggle/python Docker image: https://github.com/kaggle/docker-python\n",
        "# For example, here's several helpful packages to load\n",
        "\n",
        "import numpy as np # linear algebra\n",
        "import pandas as pd # data processing, CSV file I/O (e.g. pd.read_csv)\n",
        "\n",
        "# Input data files are available in the read-only \"../input/\" directory\n",
        "# For example, running this (by clicking run or pressing Shift+Enter) will list all files under the input directory\n",
        "\n",
        "import os\n",
        "for dirname, _, filenames in os.walk('/kaggle/input'):\n",
        "    for filename in filenames:\n",
        "        print(os.path.join(dirname, filename))\n",
        "\n",
        "# You can write up to 20GB to the current directory (/kaggle/working/) that gets preserved as output when you create a version using \"Save & Run All\"\n",
        "# You can also write temporary files to /kaggle/temp/, but they won't be saved outside of the current session"
      ],
      "metadata": {
        "_uuid": "8f2839f25d086af736a60e9eeb907d3b93b6e0e5",
        "_cell_guid": "b1076dfc-b9ad-4769-8c92-a6c4dae69d19",
        "trusted": true,
        "execution": {
          "iopub.status.busy": "2025-08-21T19:33:35.6507Z",
          "iopub.execute_input": "2025-08-21T19:33:35.651853Z",
          "iopub.status.idle": "2025-08-21T19:33:36.049921Z",
          "shell.execute_reply.started": "2025-08-21T19:33:35.651819Z",
          "shell.execute_reply": "2025-08-21T19:33:36.048631Z"
        },
        "id": "6WaqZqTUDDEQ",
        "outputId": "280fb3da-2650-4c9e-b25d-99a34b643695"
      },
      "outputs": [
        {
          "name": "stdout",
          "text": "/kaggle/input/placementcsv/placement.csv\n",
          "output_type": "stream"
        }
      ],
      "execution_count": null
    },
    {
      "cell_type": "code",
      "source": [
        "df = pd.read_csv('/kaggle/input/placementcsv/placement.csv')\n"
      ],
      "metadata": {
        "trusted": true,
        "execution": {
          "iopub.status.busy": "2025-08-21T19:33:37.615872Z",
          "iopub.execute_input": "2025-08-21T19:33:37.616373Z",
          "iopub.status.idle": "2025-08-21T19:33:37.636692Z",
          "shell.execute_reply.started": "2025-08-21T19:33:37.616349Z",
          "shell.execute_reply": "2025-08-21T19:33:37.635163Z"
        },
        "id": "LlGDnXhUDDES"
      },
      "outputs": [],
      "execution_count": null
    },
    {
      "cell_type": "code",
      "source": [
        "class meraLR:\n",
        "    X_np = X_train.values\n",
        "    y_np = y_train.values\n",
        "    def __init__(self):\n",
        "        self.m = None\n",
        "        self.b=None\n",
        "    def fit(self, X_train, y_train):\n",
        "        num = 0\n",
        "        den = 0\n",
        "        for i in range(len(X_train)):\n",
        "            num = num + (X_train.iloc[i] - X_train.mean()) * (y_train.iloc[i] - y_train.mean())\n",
        "            den = den + (X_train.iloc[i] - X_train.mean()) * (X_train.iloc[i] - X_train.mean())\n",
        "\n",
        "        self.m = num / den\n",
        "        self.b = y_train.mean() - (self.m * X_train.mean())\n",
        "        print(\"m:\",self.m)\n",
        "        print(\"b:\",self.b)\n",
        "\n",
        "\n",
        "    def predict(self , X_test):\n",
        "        Y_predict= self.m*X_test+self.b\n",
        "        return Y_predict\n",
        "        pass\n",
        "\n",
        "\n",
        "\n",
        "\n",
        "\n",
        ""
      ],
      "metadata": {
        "trusted": true,
        "execution": {
          "iopub.status.busy": "2025-08-21T19:37:18.226307Z",
          "iopub.execute_input": "2025-08-21T19:37:18.22724Z",
          "iopub.status.idle": "2025-08-21T19:37:18.235748Z",
          "shell.execute_reply.started": "2025-08-21T19:37:18.227208Z",
          "shell.execute_reply": "2025-08-21T19:37:18.234329Z"
        },
        "id": "2UKsleS-DDES"
      },
      "outputs": [],
      "execution_count": null
    },
    {
      "cell_type": "code",
      "source": [
        "df"
      ],
      "metadata": {
        "trusted": true,
        "execution": {
          "iopub.status.busy": "2025-08-21T19:34:08.116262Z",
          "iopub.execute_input": "2025-08-21T19:34:08.116663Z",
          "iopub.status.idle": "2025-08-21T19:34:08.14885Z",
          "shell.execute_reply.started": "2025-08-21T19:34:08.116636Z",
          "shell.execute_reply": "2025-08-21T19:34:08.147965Z"
        },
        "id": "MLFnldGVDDET",
        "outputId": "e04c3552-06fc-452f-aef2-624a1283aa88"
      },
      "outputs": [
        {
          "execution_count": 6,
          "output_type": "execute_result",
          "data": {
            "text/plain": "     cgpa  package\n0    6.89     3.26\n1    5.12     1.98\n2    7.82     3.25\n3    7.42     3.67\n4    6.94     3.57\n..    ...      ...\n195  6.93     2.46\n196  5.89     2.57\n197  7.21     3.24\n198  7.63     3.96\n199  6.22     2.33\n\n[200 rows x 2 columns]",
            "text/html": "<div>\n<style scoped>\n    .dataframe tbody tr th:only-of-type {\n        vertical-align: middle;\n    }\n\n    .dataframe tbody tr th {\n        vertical-align: top;\n    }\n\n    .dataframe thead th {\n        text-align: right;\n    }\n</style>\n<table border=\"1\" class=\"dataframe\">\n  <thead>\n    <tr style=\"text-align: right;\">\n      <th></th>\n      <th>cgpa</th>\n      <th>package</th>\n    </tr>\n  </thead>\n  <tbody>\n    <tr>\n      <th>0</th>\n      <td>6.89</td>\n      <td>3.26</td>\n    </tr>\n    <tr>\n      <th>1</th>\n      <td>5.12</td>\n      <td>1.98</td>\n    </tr>\n    <tr>\n      <th>2</th>\n      <td>7.82</td>\n      <td>3.25</td>\n    </tr>\n    <tr>\n      <th>3</th>\n      <td>7.42</td>\n      <td>3.67</td>\n    </tr>\n    <tr>\n      <th>4</th>\n      <td>6.94</td>\n      <td>3.57</td>\n    </tr>\n    <tr>\n      <th>...</th>\n      <td>...</td>\n      <td>...</td>\n    </tr>\n    <tr>\n      <th>195</th>\n      <td>6.93</td>\n      <td>2.46</td>\n    </tr>\n    <tr>\n      <th>196</th>\n      <td>5.89</td>\n      <td>2.57</td>\n    </tr>\n    <tr>\n      <th>197</th>\n      <td>7.21</td>\n      <td>3.24</td>\n    </tr>\n    <tr>\n      <th>198</th>\n      <td>7.63</td>\n      <td>3.96</td>\n    </tr>\n    <tr>\n      <th>199</th>\n      <td>6.22</td>\n      <td>2.33</td>\n    </tr>\n  </tbody>\n</table>\n<p>200 rows × 2 columns</p>\n</div>"
          },
          "metadata": {}
        }
      ],
      "execution_count": null
    },
    {
      "cell_type": "code",
      "source": [
        "X=df.iloc[:,0]\n",
        "X"
      ],
      "metadata": {
        "trusted": true,
        "execution": {
          "iopub.status.busy": "2025-08-21T19:34:09.866477Z",
          "iopub.execute_input": "2025-08-21T19:34:09.867978Z",
          "iopub.status.idle": "2025-08-21T19:34:09.877396Z",
          "shell.execute_reply.started": "2025-08-21T19:34:09.867925Z",
          "shell.execute_reply": "2025-08-21T19:34:09.876007Z"
        },
        "id": "nlYrtcV6DDEU",
        "outputId": "0ae0dabb-2f4f-4292-9a57-c16200f06635"
      },
      "outputs": [
        {
          "execution_count": 7,
          "output_type": "execute_result",
          "data": {
            "text/plain": "0      6.89\n1      5.12\n2      7.82\n3      7.42\n4      6.94\n       ... \n195    6.93\n196    5.89\n197    7.21\n198    7.63\n199    6.22\nName: cgpa, Length: 200, dtype: float64"
          },
          "metadata": {}
        }
      ],
      "execution_count": null
    },
    {
      "cell_type": "code",
      "source": [
        "y=df.iloc[:,1]\n",
        "y"
      ],
      "metadata": {
        "trusted": true,
        "execution": {
          "iopub.status.busy": "2025-08-21T19:34:11.029998Z",
          "iopub.execute_input": "2025-08-21T19:34:11.030392Z",
          "iopub.status.idle": "2025-08-21T19:34:11.039823Z",
          "shell.execute_reply.started": "2025-08-21T19:34:11.030358Z",
          "shell.execute_reply": "2025-08-21T19:34:11.038881Z"
        },
        "id": "2FEVpCxmDDEV",
        "outputId": "e0d97c8f-2d82-4dc6-90bd-34ff281f5d88"
      },
      "outputs": [
        {
          "execution_count": 8,
          "output_type": "execute_result",
          "data": {
            "text/plain": "0      3.26\n1      1.98\n2      3.25\n3      3.67\n4      3.57\n       ... \n195    2.46\n196    2.57\n197    3.24\n198    3.96\n199    2.33\nName: package, Length: 200, dtype: float64"
          },
          "metadata": {}
        }
      ],
      "execution_count": null
    },
    {
      "cell_type": "code",
      "source": [
        "from sklearn.model_selection  import train_test_split\n",
        "X_train ,X_test,y_train,y_test = train_test_split(X,y, test_size=0.2)\n"
      ],
      "metadata": {
        "trusted": true,
        "execution": {
          "iopub.status.busy": "2025-08-21T19:34:12.583624Z",
          "iopub.execute_input": "2025-08-21T19:34:12.583945Z",
          "iopub.status.idle": "2025-08-21T19:34:13.335281Z",
          "shell.execute_reply.started": "2025-08-21T19:34:12.583921Z",
          "shell.execute_reply": "2025-08-21T19:34:13.333956Z"
        },
        "id": "owN2IVjLDDEY"
      },
      "outputs": [],
      "execution_count": null
    },
    {
      "cell_type": "code",
      "source": [
        "y_train.shape"
      ],
      "metadata": {
        "trusted": true,
        "execution": {
          "iopub.status.busy": "2025-08-21T19:34:14.605582Z",
          "iopub.execute_input": "2025-08-21T19:34:14.606174Z",
          "iopub.status.idle": "2025-08-21T19:34:14.613863Z",
          "shell.execute_reply.started": "2025-08-21T19:34:14.606147Z",
          "shell.execute_reply": "2025-08-21T19:34:14.612518Z"
        },
        "id": "DVk7GFBjDDEa",
        "outputId": "777ba25c-c599-48f3-9050-86e86429ce97"
      },
      "outputs": [
        {
          "execution_count": 10,
          "output_type": "execute_result",
          "data": {
            "text/plain": "(160,)"
          },
          "metadata": {}
        }
      ],
      "execution_count": null
    },
    {
      "cell_type": "code",
      "source": [
        "lr = meraLR()   # ✅ creates an object\n",
        "lr.fit(X_train, y_train)  # now works\n"
      ],
      "metadata": {
        "trusted": true,
        "execution": {
          "iopub.status.busy": "2025-08-21T19:36:04.177228Z",
          "iopub.execute_input": "2025-08-21T19:36:04.177584Z",
          "iopub.status.idle": "2025-08-21T19:36:04.205267Z",
          "shell.execute_reply.started": "2025-08-21T19:36:04.177561Z",
          "shell.execute_reply": "2025-08-21T19:36:04.204012Z"
        },
        "id": "t9J05CjmDDEc",
        "outputId": "86a472ea-45ef-4eae-e89b-9d648135ca52"
      },
      "outputs": [
        {
          "name": "stdout",
          "text": "m: 0.5707204905458652\nb: -0.9768146876534458\n",
          "output_type": "stream"
        }
      ],
      "execution_count": null
    },
    {
      "cell_type": "code",
      "source": [
        "lr.predict(X_test)"
      ],
      "metadata": {
        "trusted": true,
        "execution": {
          "iopub.status.busy": "2025-08-21T19:38:45.544845Z",
          "iopub.execute_input": "2025-08-21T19:38:45.545297Z",
          "iopub.status.idle": "2025-08-21T19:38:45.553389Z",
          "shell.execute_reply.started": "2025-08-21T19:38:45.545266Z",
          "shell.execute_reply": "2025-08-21T19:38:45.552399Z"
        },
        "id": "HGOTClQLDDEd",
        "outputId": "118f34a2-db17-442a-928c-a70dc8723822"
      },
      "outputs": [
        {
          "execution_count": 24,
          "output_type": "execute_result",
          "data": {
            "text/plain": "123    1.933860\n91     2.573067\n68     3.337832\n13     2.978278\n112    3.919967\n31     3.646021\n130    2.835598\n35     2.944035\n165    3.708801\n132    2.356193\n136    2.242049\n164    4.193913\n156    3.235103\n173    2.875549\n14     3.434855\n182    2.379022\n17     2.093662\n7      2.875549\n88     1.722693\n36     2.441801\n6      2.864134\n5      3.526170\n16     2.926913\n195    2.978278\n82     2.207806\n64     3.223688\n194    3.526170\n23     2.555945\n133    2.476044\n183    3.178030\n126    2.396143\n2      3.486220\n121    2.732869\n178    3.674557\n128    3.548999\n198    3.377783\n40     4.376544\n100    3.560413\n97     2.436094\n61     2.150734\nName: cgpa, dtype: float64"
          },
          "metadata": {}
        }
      ],
      "execution_count": null
    },
    {
      "cell_type": "code",
      "source": [
        "lr = MeraLR()\n",
        "lr.fit(X_train,y_train)"
      ],
      "metadata": {
        "trusted": true,
        "execution": {
          "execution_failed": "2025-08-21T19:32:20.402Z"
        },
        "id": "Jq9mLT1GDDEe"
      },
      "outputs": [],
      "execution_count": null
    }
  ]
}